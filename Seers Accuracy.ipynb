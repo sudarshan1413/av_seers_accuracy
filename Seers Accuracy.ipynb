{
 "cells": [
  {
   "cell_type": "code",
   "execution_count": 2,
   "metadata": {
    "collapsed": false
   },
   "outputs": [],
   "source": [
    "import pandas as pd\n",
    "import numpy as np\n",
    "import matplotlib.pyplot as plt\n",
    "import seaborn as sns\n",
    "import sklearn as sklearn\n",
    "%matplotlib inline\n",
    "import warnings\n",
    "warnings.filterwarnings('ignore')"
   ]
  },
  {
   "cell_type": "code",
   "execution_count": 3,
   "metadata": {
    "collapsed": false
   },
   "outputs": [],
   "source": [
    "df = pd.read_csv('Train_seers_accuracy/Train_seers_accuracy.csv')"
   ]
  },
  {
   "cell_type": "markdown",
   "metadata": {},
   "source": [
    "## Missing Value Imputation"
   ]
  },
  {
   "cell_type": "code",
   "execution_count": 4,
   "metadata": {
    "collapsed": true
   },
   "outputs": [],
   "source": [
    "df.Payment_Mode.fillna('Credit/Debit Card',inplace=True)"
   ]
  },
  {
   "cell_type": "markdown",
   "metadata": {},
   "source": [
    "## Feature Engineering"
   ]
  },
  {
   "cell_type": "code",
   "execution_count": 5,
   "metadata": {
    "collapsed": false
   },
   "outputs": [],
   "source": [
    "#Feature Engineering\n",
    "#Converting DOB and Transaction Date to Pandas Datetime format & creating new variables\n",
    "\n",
    "import datetime as dt\n",
    "now = dt.datetime.now()\n",
    "\n",
    "df['Transaction_Date'] = df['Transaction_Date'].apply(lambda x: \n",
    "                                    dt.datetime.strptime(x,'%d-%b-%y'))\n",
    "\n",
    "df['DOB'] = df['DOB'].apply(lambda x: \n",
    "                                    dt.datetime.strptime(x,'%d-%b-%y'))\n",
    "\n",
    "df['DOB'] = df['DOB'].where(df['DOB'] < now, df['DOB'] -  np.timedelta64(100, 'Y'))\n",
    "\n",
    "df['Age'] = (now - df.DOB).astype('<m8[Y]') \n",
    "\n",
    "df['Transaction_Year'] = df.Transaction_Date.apply(lambda x: x.year)\n",
    "df['Transaction_Month'] = df.Transaction_Date.apply(lambda x: x.month)\n",
    "df['Transaction_Day'] = df.Transaction_Date.apply(lambda x: x.day)\n",
    "\n",
    "df['Visits'] = df.groupby('Client_ID')['Client_ID'].transform('count')\n"
   ]
  },
  {
   "cell_type": "code",
   "execution_count": 6,
   "metadata": {
    "collapsed": false
   },
   "outputs": [],
   "source": [
    "#Creating Year wise Data frame subsets\n",
    "df_2003 = df[df.Transaction_Year==2003]\n",
    "df_2004 = df[df.Transaction_Year==2004]\n",
    "df_2005 = df[df.Transaction_Year==2005]\n",
    "df_2006 = df[df.Transaction_Year==2006]"
   ]
  },
  {
   "cell_type": "code",
   "execution_count": 7,
   "metadata": {
    "collapsed": true
   },
   "outputs": [],
   "source": [
    "#Creating variables for each year of purchase and flag it to 1 or 0 based on purchase Made\n",
    "\n",
    "list_2003 = list(df[df.Transaction_Year==2003]['Client_ID'])\n",
    "list_2004 = list(df[df.Transaction_Year==2004]['Client_ID'])\n",
    "list_2005 = list(df[df.Transaction_Year==2005]['Client_ID'])\n",
    "list_2006 = list(df[df.Transaction_Year==2006]['Client_ID'])\n",
    "\n",
    "df['Purchase_2003'] = df.Client_ID.isin(list_2003).map({True:1,False:0})\n",
    "df['Purchase_2004'] = df.Client_ID.isin(list_2004).map({True:1,False:0})\n",
    "df['Purchase_2005'] = df.Client_ID.isin(list_2005).map({True:1,False:0})\n",
    "df['Purchase_2006'] = df.Client_ID.isin(list_2006).map({True:1,False:0})"
   ]
  },
  {
   "cell_type": "code",
   "execution_count": 8,
   "metadata": {
    "collapsed": false
   },
   "outputs": [],
   "source": [
    "df['Purchase_Total'] = df.ix[:,-4:].sum(axis=1)"
   ]
  },
  {
   "cell_type": "code",
   "execution_count": 9,
   "metadata": {
    "collapsed": true
   },
   "outputs": [],
   "source": [
    "def getCountVar(compute_df, count_df, var_name):\n",
    "    grouped_df = count_df.groupby(var_name)\n",
    "    count_dict = {}\n",
    "    for name, group in grouped_df:\n",
    "        count_dict[name] = group.shape[0]\n",
    "\n",
    "    count_list = []\n",
    "    for index, row in compute_df.iterrows():\n",
    "        name = row[var_name]\n",
    "        count_list.append(count_dict.get(name, 0))\n",
    "    return count_list"
   ]
  },
  {
   "cell_type": "code",
   "execution_count": 10,
   "metadata": {
    "collapsed": false
   },
   "outputs": [
    {
     "data": {
      "text/plain": [
       "Index([u'Transaction_ID', u'Transaction_Date', u'Store_ID', u'Number_of_EMI',\n",
       "       u'Purchased_in_Sale', u'Var1', u'Var2', u'Var3', u'Client_ID',\n",
       "       u'Gender', u'DOB', u'Referred_Friend', u'Sales_Executive_ID',\n",
       "       u'Sales_Executive_Category', u'Lead_Source_Category', u'Payment_Mode',\n",
       "       u'Product_Category', u'Transaction_Amount', u'Age', u'Transaction_Year',\n",
       "       u'Transaction_Month', u'Transaction_Day', u'Visits', u'Purchase_2003',\n",
       "       u'Purchase_2004', u'Purchase_2005', u'Purchase_2006',\n",
       "       u'Purchase_Total'],\n",
       "      dtype='object')"
      ]
     },
     "execution_count": 10,
     "metadata": {},
     "output_type": "execute_result"
    }
   ],
   "source": [
    "df.columns"
   ]
  },
  {
   "cell_type": "code",
   "execution_count": 11,
   "metadata": {
    "collapsed": true
   },
   "outputs": [],
   "source": [
    "df[\"Store_Count\"] = getCountVar(df, df, \"Store_ID\")\n",
    "df[\"Purchased_in_Sale_Count\"] = getCountVar(df, df, \"Purchased_in_Sale\")\n",
    "df[\"Gender_Count\"] = getCountVar(df, df, \"Gender\")\n",
    "df[\"Referred_Friend_Count\"] = getCountVar(df, df, \"Referred_Friend\")\n",
    "df[\"Sales_Executive_Category_Count\"] = getCountVar(df, df, \"Sales_Executive_Category\")\n",
    "df[\"Lead_Source_Category_Count\"] = getCountVar(df, df, \"Lead_Source_Category\")\n",
    "df[\"Payment_Mode_Count\"] = getCountVar(df, df, \"Payment_Mode\")\n",
    "df[\"Product_Category_Count\"] = getCountVar(df, df, \"Product_Category\")"
   ]
  },
  {
   "cell_type": "code",
   "execution_count": 13,
   "metadata": {
    "collapsed": false
   },
   "outputs": [],
   "source": [
    "df1 = df.copy()"
   ]
  },
  {
   "cell_type": "code",
   "execution_count": 14,
   "metadata": {
    "collapsed": true
   },
   "outputs": [],
   "source": [
    "df['Cross_Sell'] = 0"
   ]
  },
  {
   "cell_type": "code",
   "execution_count": null,
   "metadata": {
    "collapsed": true
   },
   "outputs": [],
   "source": [
    "#Visits Per Year Calculation"
   ]
  },
  {
   "cell_type": "code",
   "execution_count": 15,
   "metadata": {
    "collapsed": false
   },
   "outputs": [],
   "source": [
    "#Target Variable Creation\n",
    "#df.ix[(df.Purchase_2003==1) & (df.Purchase_2004==1),'Cross_Sell'] = 1\n",
    "#df.ix[(df.Purchase_2004==1) & (df.Purchase_2005==1),'Cross_Sell'] = 1\n",
    "#df.ix[(df.Purchase_2005==1) & (df.Purchase_2006==1),'Cross_Sell'] = 1\n",
    "\n",
    "df.Cross_Sell = (df['Visits'] - min(df['Visits'])) / (max(df['Visits']) - min(df['Visits']))\n",
    "\n",
    "#df.ix[df.Visits>1,'Cross_Sell'] = 1"
   ]
  },
  {
   "cell_type": "code",
   "execution_count": null,
   "metadata": {
    "collapsed": false
   },
   "outputs": [],
   "source": [
    "#df_2003['Visits'] = df_2003.groupby('Client_ID')['Client_ID'].transform('count')\n",
    "#df_2004['Visits'] = df_2004.groupby('Client_ID')['Client_ID'].transform('count')\n",
    "#df_2005['Visits'] = df_2005.groupby('Client_ID')['Client_ID'].transform('count')\n",
    "#df_2006['Visits'] = df_2006.groupby('Client_ID')['Client_ID'].transform('count')"
   ]
  },
  {
   "cell_type": "code",
   "execution_count": null,
   "metadata": {
    "collapsed": true
   },
   "outputs": [],
   "source": [
    "#df_2003['Cross_Sell'] = (df_2003['Visits'] - min(df_2003['Visits'])) / (max(df_2003['Visits']) - min(df_2003['Visits']))\n",
    "#df_2004['Cross_Sell'] = (df_2004['Visits'] - min(df_2004['Visits'])) / (max(df_2004['Visits']) - min(df_2004['Visits']))\n",
    "#df_2005['Cross_Sell'] = (df_2005['Visits'] - min(df_2005['Visits'])) / (max(df_2005['Visits']) - min(df_2005['Visits']))\n",
    "#df_2006['Cross_Sell'] = (df_2006['Visits'] - min(df_2006['Visits'])) / (max(df_2006['Visits']) - min(df_2006['Visits']))"
   ]
  },
  {
   "cell_type": "markdown",
   "metadata": {},
   "source": [
    "## EDA"
   ]
  },
  {
   "cell_type": "code",
   "execution_count": 16,
   "metadata": {
    "collapsed": false
   },
   "outputs": [
    {
     "data": {
      "text/html": [
       "<div>\n",
       "<table border=\"1\" class=\"dataframe\">\n",
       "  <thead>\n",
       "    <tr style=\"text-align: right;\">\n",
       "      <th></th>\n",
       "      <th>Transaction_ID</th>\n",
       "      <th>Transaction_Date</th>\n",
       "      <th>Store_ID</th>\n",
       "      <th>Number_of_EMI</th>\n",
       "      <th>Purchased_in_Sale</th>\n",
       "      <th>Var1</th>\n",
       "      <th>Var2</th>\n",
       "      <th>Var3</th>\n",
       "      <th>Client_ID</th>\n",
       "      <th>Gender</th>\n",
       "      <th>...</th>\n",
       "      <th>Purchase_Total</th>\n",
       "      <th>Store_Count</th>\n",
       "      <th>Purchased_in_Sale_Count</th>\n",
       "      <th>Gender_Count</th>\n",
       "      <th>Referred_Friend_Count</th>\n",
       "      <th>Sales_Executive_Category_Count</th>\n",
       "      <th>Lead_Source_Category_Count</th>\n",
       "      <th>Payment_Mode_Count</th>\n",
       "      <th>Product_Category_Count</th>\n",
       "      <th>Cross_Sell</th>\n",
       "    </tr>\n",
       "  </thead>\n",
       "  <tbody>\n",
       "    <tr>\n",
       "      <th>0</th>\n",
       "      <td>TRA98825550</td>\n",
       "      <td>2003-01-01</td>\n",
       "      <td>STO1281</td>\n",
       "      <td>2</td>\n",
       "      <td>N</td>\n",
       "      <td>1</td>\n",
       "      <td>1</td>\n",
       "      <td>1</td>\n",
       "      <td>345821599</td>\n",
       "      <td>F</td>\n",
       "      <td>...</td>\n",
       "      <td>1</td>\n",
       "      <td>4960</td>\n",
       "      <td>418293</td>\n",
       "      <td>117039</td>\n",
       "      <td>383739</td>\n",
       "      <td>221641</td>\n",
       "      <td>241935</td>\n",
       "      <td>304554</td>\n",
       "      <td>84575</td>\n",
       "      <td>0</td>\n",
       "    </tr>\n",
       "    <tr>\n",
       "      <th>1</th>\n",
       "      <td>TRA98825710</td>\n",
       "      <td>2003-01-01</td>\n",
       "      <td>STO1247</td>\n",
       "      <td>2</td>\n",
       "      <td>N</td>\n",
       "      <td>1</td>\n",
       "      <td>2</td>\n",
       "      <td>1</td>\n",
       "      <td>345821734</td>\n",
       "      <td>M</td>\n",
       "      <td>...</td>\n",
       "      <td>1</td>\n",
       "      <td>37790</td>\n",
       "      <td>418293</td>\n",
       "      <td>322499</td>\n",
       "      <td>383739</td>\n",
       "      <td>221641</td>\n",
       "      <td>241935</td>\n",
       "      <td>304554</td>\n",
       "      <td>84575</td>\n",
       "      <td>0</td>\n",
       "    </tr>\n",
       "    <tr>\n",
       "      <th>2</th>\n",
       "      <td>TRA98823874</td>\n",
       "      <td>2003-01-01</td>\n",
       "      <td>STO1244</td>\n",
       "      <td>2</td>\n",
       "      <td>N</td>\n",
       "      <td>1</td>\n",
       "      <td>1</td>\n",
       "      <td>1</td>\n",
       "      <td>345820365</td>\n",
       "      <td>F</td>\n",
       "      <td>...</td>\n",
       "      <td>1</td>\n",
       "      <td>30984</td>\n",
       "      <td>418293</td>\n",
       "      <td>117039</td>\n",
       "      <td>383739</td>\n",
       "      <td>221641</td>\n",
       "      <td>241935</td>\n",
       "      <td>304554</td>\n",
       "      <td>84575</td>\n",
       "      <td>0</td>\n",
       "    </tr>\n",
       "    <tr>\n",
       "      <th>3</th>\n",
       "      <td>TRA98823889</td>\n",
       "      <td>2003-01-01</td>\n",
       "      <td>STO1256</td>\n",
       "      <td>2</td>\n",
       "      <td>N</td>\n",
       "      <td>1</td>\n",
       "      <td>1</td>\n",
       "      <td>1</td>\n",
       "      <td>345820377</td>\n",
       "      <td>M</td>\n",
       "      <td>...</td>\n",
       "      <td>1</td>\n",
       "      <td>2579</td>\n",
       "      <td>418293</td>\n",
       "      <td>322499</td>\n",
       "      <td>383739</td>\n",
       "      <td>221641</td>\n",
       "      <td>241935</td>\n",
       "      <td>304554</td>\n",
       "      <td>84575</td>\n",
       "      <td>0</td>\n",
       "    </tr>\n",
       "    <tr>\n",
       "      <th>4</th>\n",
       "      <td>TRA98824521</td>\n",
       "      <td>2003-01-01</td>\n",
       "      <td>STO1445</td>\n",
       "      <td>2</td>\n",
       "      <td>N</td>\n",
       "      <td>1</td>\n",
       "      <td>2</td>\n",
       "      <td>1</td>\n",
       "      <td>345820841</td>\n",
       "      <td>F</td>\n",
       "      <td>...</td>\n",
       "      <td>1</td>\n",
       "      <td>123</td>\n",
       "      <td>418293</td>\n",
       "      <td>117039</td>\n",
       "      <td>383739</td>\n",
       "      <td>221641</td>\n",
       "      <td>18154</td>\n",
       "      <td>61433</td>\n",
       "      <td>84575</td>\n",
       "      <td>0</td>\n",
       "    </tr>\n",
       "  </tbody>\n",
       "</table>\n",
       "<p>5 rows × 37 columns</p>\n",
       "</div>"
      ],
      "text/plain": [
       "  Transaction_ID Transaction_Date Store_ID  Number_of_EMI Purchased_in_Sale  \\\n",
       "0    TRA98825550       2003-01-01  STO1281              2                 N   \n",
       "1    TRA98825710       2003-01-01  STO1247              2                 N   \n",
       "2    TRA98823874       2003-01-01  STO1244              2                 N   \n",
       "3    TRA98823889       2003-01-01  STO1256              2                 N   \n",
       "4    TRA98824521       2003-01-01  STO1445              2                 N   \n",
       "\n",
       "   Var1  Var2  Var3  Client_ID Gender     ...     Purchase_Total Store_Count  \\\n",
       "0     1     1     1  345821599      F     ...                  1        4960   \n",
       "1     1     2     1  345821734      M     ...                  1       37790   \n",
       "2     1     1     1  345820365      F     ...                  1       30984   \n",
       "3     1     1     1  345820377      M     ...                  1        2579   \n",
       "4     1     2     1  345820841      F     ...                  1         123   \n",
       "\n",
       "  Purchased_in_Sale_Count Gender_Count Referred_Friend_Count  \\\n",
       "0                  418293       117039                383739   \n",
       "1                  418293       322499                383739   \n",
       "2                  418293       117039                383739   \n",
       "3                  418293       322499                383739   \n",
       "4                  418293       117039                383739   \n",
       "\n",
       "  Sales_Executive_Category_Count Lead_Source_Category_Count  \\\n",
       "0                         221641                     241935   \n",
       "1                         221641                     241935   \n",
       "2                         221641                     241935   \n",
       "3                         221641                     241935   \n",
       "4                         221641                      18154   \n",
       "\n",
       "   Payment_Mode_Count  Product_Category_Count  Cross_Sell  \n",
       "0              304554                   84575           0  \n",
       "1              304554                   84575           0  \n",
       "2              304554                   84575           0  \n",
       "3              304554                   84575           0  \n",
       "4               61433                   84575           0  \n",
       "\n",
       "[5 rows x 37 columns]"
      ]
     },
     "execution_count": 16,
     "metadata": {},
     "output_type": "execute_result"
    }
   ],
   "source": [
    "df.head()"
   ]
  },
  {
   "cell_type": "code",
   "execution_count": 37,
   "metadata": {
    "collapsed": false
   },
   "outputs": [],
   "source": [
    "grp = df.groupby('Client_ID')\n",
    "\n",
    "days_dict = {}\n",
    "\n",
    "for name, group in grp:\n",
    "        days_dict[name] = (max(np.array(group['Transaction_Date'])) - min(np.array(group['Transaction_Date']))).astype('timedelta64[D]') / np.timedelta64(1, 'D')\n",
    "        \n",
    "days_list = []\n",
    "for index, row in df.iterrows():\n",
    "        name = row['Client_ID']\n",
    "        days_list.append(days_dict.get(name, 0))\n",
    "        \n"
   ]
  },
  {
   "cell_type": "code",
   "execution_count": 45,
   "metadata": {
    "collapsed": true
   },
   "outputs": [],
   "source": [
    "df['days_bt_purchase'] = days_list"
   ]
  },
  {
   "cell_type": "code",
   "execution_count": 47,
   "metadata": {
    "collapsed": false
   },
   "outputs": [],
   "source": [
    "df.days_bt_purchase.replace(inplace=True,to_replace=0,value=1600)"
   ]
  },
  {
   "cell_type": "markdown",
   "metadata": {},
   "source": [
    "## Model Building"
   ]
  },
  {
   "cell_type": "code",
   "execution_count": null,
   "metadata": {
    "collapsed": false
   },
   "outputs": [],
   "source": [
    "df.columns"
   ]
  },
  {
   "cell_type": "code",
   "execution_count": null,
   "metadata": {
    "collapsed": true
   },
   "outputs": [],
   "source": [
    "#Important Features :- Transaction Amount , Purchase , Age , Purchase Total , Purchase in Sale , Var 1 , Var 3 ,Product Category"
   ]
  },
  {
   "cell_type": "code",
   "execution_count": null,
   "metadata": {
    "collapsed": false
   },
   "outputs": [],
   "source": [
    "sorted(zip(rf.feature_importances_,X_df.columns),reverse=True)"
   ]
  },
  {
   "cell_type": "code",
   "execution_count": 49,
   "metadata": {
    "collapsed": false
   },
   "outputs": [],
   "source": [
    "from sklearn.preprocessing import LabelEncoder\n",
    "\n",
    "features = ['Client_ID','Cross_Sell']\n",
    "\n",
    "var_mod = ['Purchased_in_Sale','Var1','Var2','Var3','Gender','Referred_Friend','Sales_Executive_Category',\\\n",
    "           'Lead_Source_Category','Payment_Mode','Product_Category'\n",
    "           ]\n",
    "\n",
    "var_to_drop = ['Transaction_ID','Transaction_Date','DOB','Store_ID','Sales_Executive_ID','Purchase_Total',\\\n",
    "              'Purchased_in_Sale_Count','Purchased_in_Sale','Lead_Source_Category_Count','Var3','Transaction_Year',\\\n",
    "               'Payment_Mode_Count','Sales_Executive_Category','Var1','Referred_Friend','Sales_Executive_Category_Count',\\\n",
    "               'Referred_Friend_Count']\n",
    "\n",
    "\n",
    "\n",
    "#for i in var_mod:\n",
    "#    dummy = pd.get_dummies(df[i],prefix=i)\n",
    "#    df.drop([i],axis=1,inplace=True)\n",
    "#    df = pd.concat([df,dummy],axis=1)\n",
    "\n",
    "cols = [col for col in df.columns if col not in features]\n",
    "\n",
    "X_df = df[cols]\n",
    "y_df = df.Cross_Sell\n",
    "\n",
    "for var in var_mod:\n",
    "    lb = LabelEncoder()\n",
    "    full_var_data = X_df[var].astype('str')\n",
    "    temp = lb.fit_transform(np.array(full_var_data))\n",
    "    X_df[var] = lb.transform(np.array( X_df[var] ).astype('str'))   \n",
    "    \n",
    "X_df.drop(var_to_drop,inplace=True,axis=1)\n"
   ]
  },
  {
   "cell_type": "code",
   "execution_count": 50,
   "metadata": {
    "collapsed": false
   },
   "outputs": [
    {
     "data": {
      "text/html": [
       "<div>\n",
       "<table border=\"1\" class=\"dataframe\">\n",
       "  <thead>\n",
       "    <tr style=\"text-align: right;\">\n",
       "      <th></th>\n",
       "      <th>Number_of_EMI</th>\n",
       "      <th>Var2</th>\n",
       "      <th>Gender</th>\n",
       "      <th>Lead_Source_Category</th>\n",
       "      <th>Payment_Mode</th>\n",
       "      <th>Product_Category</th>\n",
       "      <th>Transaction_Amount</th>\n",
       "      <th>Age</th>\n",
       "      <th>Transaction_Month</th>\n",
       "      <th>Transaction_Day</th>\n",
       "      <th>Visits</th>\n",
       "      <th>Purchase_2003</th>\n",
       "      <th>Purchase_2004</th>\n",
       "      <th>Purchase_2005</th>\n",
       "      <th>Purchase_2006</th>\n",
       "      <th>Store_Count</th>\n",
       "      <th>Gender_Count</th>\n",
       "      <th>Product_Category_Count</th>\n",
       "      <th>days_bt_purchase</th>\n",
       "    </tr>\n",
       "  </thead>\n",
       "  <tbody>\n",
       "    <tr>\n",
       "      <th>0</th>\n",
       "      <td>2</td>\n",
       "      <td>0</td>\n",
       "      <td>2</td>\n",
       "      <td>0</td>\n",
       "      <td>2</td>\n",
       "      <td>0</td>\n",
       "      <td>17455</td>\n",
       "      <td>44</td>\n",
       "      <td>1</td>\n",
       "      <td>1</td>\n",
       "      <td>1</td>\n",
       "      <td>1</td>\n",
       "      <td>0</td>\n",
       "      <td>0</td>\n",
       "      <td>0</td>\n",
       "      <td>4960</td>\n",
       "      <td>117039</td>\n",
       "      <td>84575</td>\n",
       "      <td>1600</td>\n",
       "    </tr>\n",
       "    <tr>\n",
       "      <th>1</th>\n",
       "      <td>2</td>\n",
       "      <td>1</td>\n",
       "      <td>3</td>\n",
       "      <td>0</td>\n",
       "      <td>2</td>\n",
       "      <td>0</td>\n",
       "      <td>16503</td>\n",
       "      <td>39</td>\n",
       "      <td>1</td>\n",
       "      <td>1</td>\n",
       "      <td>1</td>\n",
       "      <td>1</td>\n",
       "      <td>0</td>\n",
       "      <td>0</td>\n",
       "      <td>0</td>\n",
       "      <td>37790</td>\n",
       "      <td>322499</td>\n",
       "      <td>84575</td>\n",
       "      <td>1600</td>\n",
       "    </tr>\n",
       "    <tr>\n",
       "      <th>2</th>\n",
       "      <td>2</td>\n",
       "      <td>0</td>\n",
       "      <td>2</td>\n",
       "      <td>0</td>\n",
       "      <td>2</td>\n",
       "      <td>0</td>\n",
       "      <td>15012</td>\n",
       "      <td>57</td>\n",
       "      <td>1</td>\n",
       "      <td>1</td>\n",
       "      <td>1</td>\n",
       "      <td>1</td>\n",
       "      <td>0</td>\n",
       "      <td>0</td>\n",
       "      <td>0</td>\n",
       "      <td>30984</td>\n",
       "      <td>117039</td>\n",
       "      <td>84575</td>\n",
       "      <td>1600</td>\n",
       "    </tr>\n",
       "    <tr>\n",
       "      <th>3</th>\n",
       "      <td>2</td>\n",
       "      <td>0</td>\n",
       "      <td>3</td>\n",
       "      <td>0</td>\n",
       "      <td>2</td>\n",
       "      <td>0</td>\n",
       "      <td>16051</td>\n",
       "      <td>55</td>\n",
       "      <td>1</td>\n",
       "      <td>1</td>\n",
       "      <td>1</td>\n",
       "      <td>1</td>\n",
       "      <td>0</td>\n",
       "      <td>0</td>\n",
       "      <td>0</td>\n",
       "      <td>2579</td>\n",
       "      <td>322499</td>\n",
       "      <td>84575</td>\n",
       "      <td>1600</td>\n",
       "    </tr>\n",
       "    <tr>\n",
       "      <th>4</th>\n",
       "      <td>2</td>\n",
       "      <td>1</td>\n",
       "      <td>2</td>\n",
       "      <td>2</td>\n",
       "      <td>1</td>\n",
       "      <td>0</td>\n",
       "      <td>15108</td>\n",
       "      <td>54</td>\n",
       "      <td>1</td>\n",
       "      <td>1</td>\n",
       "      <td>1</td>\n",
       "      <td>1</td>\n",
       "      <td>0</td>\n",
       "      <td>0</td>\n",
       "      <td>0</td>\n",
       "      <td>123</td>\n",
       "      <td>117039</td>\n",
       "      <td>84575</td>\n",
       "      <td>1600</td>\n",
       "    </tr>\n",
       "  </tbody>\n",
       "</table>\n",
       "</div>"
      ],
      "text/plain": [
       "   Number_of_EMI  Var2  Gender  Lead_Source_Category  Payment_Mode  \\\n",
       "0              2     0       2                     0             2   \n",
       "1              2     1       3                     0             2   \n",
       "2              2     0       2                     0             2   \n",
       "3              2     0       3                     0             2   \n",
       "4              2     1       2                     2             1   \n",
       "\n",
       "   Product_Category  Transaction_Amount  Age  Transaction_Month  \\\n",
       "0                 0               17455   44                  1   \n",
       "1                 0               16503   39                  1   \n",
       "2                 0               15012   57                  1   \n",
       "3                 0               16051   55                  1   \n",
       "4                 0               15108   54                  1   \n",
       "\n",
       "   Transaction_Day  Visits  Purchase_2003  Purchase_2004  Purchase_2005  \\\n",
       "0                1       1              1              0              0   \n",
       "1                1       1              1              0              0   \n",
       "2                1       1              1              0              0   \n",
       "3                1       1              1              0              0   \n",
       "4                1       1              1              0              0   \n",
       "\n",
       "   Purchase_2006  Store_Count  Gender_Count  Product_Category_Count  \\\n",
       "0              0         4960        117039                   84575   \n",
       "1              0        37790        322499                   84575   \n",
       "2              0        30984        117039                   84575   \n",
       "3              0         2579        322499                   84575   \n",
       "4              0          123        117039                   84575   \n",
       "\n",
       "   days_bt_purchase  \n",
       "0              1600  \n",
       "1              1600  \n",
       "2              1600  \n",
       "3              1600  \n",
       "4              1600  "
      ]
     },
     "execution_count": 50,
     "metadata": {},
     "output_type": "execute_result"
    }
   ],
   "source": [
    "X_df.head()"
   ]
  },
  {
   "cell_type": "code",
   "execution_count": 51,
   "metadata": {
    "collapsed": true
   },
   "outputs": [],
   "source": [
    "import pandas as pd\n",
    "import matplotlib.pyplot as plt\n",
    "from sklearn import datasets\n",
    "from sklearn.feature_selection import RFE\n",
    "from sklearn.linear_model import LogisticRegression\n",
    "from sklearn.cross_validation import cross_val_score\n",
    "from sklearn.grid_search import GridSearchCV\n",
    "from sklearn.grid_search import RandomizedSearchCV\n",
    "from sklearn.metrics import accuracy_score\n",
    "from sklearn.cross_validation import train_test_split\n",
    "import numpy as np\n",
    "%matplotlib inline\n",
    "import seaborn as sns\n",
    "import warnings\n",
    "warnings.filterwarnings('ignore')\n",
    "\n",
    "#X_train, X_test, y_train, y_test = train_test_split(X,y,test_size=0.3)"
   ]
  },
  {
   "cell_type": "code",
   "execution_count": null,
   "metadata": {
    "collapsed": false
   },
   "outputs": [],
   "source": [
    "from sklearn.ensemble import RandomForestRegressor\n",
    "from sklearn.ensemble import ExtraTreesRegressor\n",
    "from sklearn.grid_search import GridSearchCV\n",
    "\n",
    "rf = RandomForestRegressor(n_estimators=100,n_jobs=-1)\n",
    "\n",
    "k_range = range(1,100,10)\n",
    "\n",
    "param_grid = dict(n_estimators=k_range)\n",
    "\n",
    "grid = GridSearchCV(rf,param_grid,cv=5,scoring='mean_squared_error')\n",
    "\n",
    "grid.fit(X_df,y_df)\n",
    "\n",
    "print grid.grid_scores_\n",
    "\n",
    "import matplotlib.pyplot as plt\n",
    "%matplotlib inline\n",
    "\n",
    "grid_mean_scores = [result.mean_validation_score for result in grid.grid_scores_]\n",
    "plt.plot(k_range,grid_mean_scores)\n",
    "\n",
    "print grid.best_score_\n",
    "print grid.best_params_\n",
    "print grid.best_estimator_\n",
    "\n"
   ]
  },
  {
   "cell_type": "code",
   "execution_count": 52,
   "metadata": {
    "collapsed": false
   },
   "outputs": [],
   "source": [
    "from sklearn.ensemble import RandomForestRegressor\n",
    "rf = RandomForestRegressor(n_estimators=500,n_jobs=-1,max_depth=10)"
   ]
  },
  {
   "cell_type": "code",
   "execution_count": null,
   "metadata": {
    "collapsed": false
   },
   "outputs": [
    {
     "data": {
      "text/plain": [
       "RandomForestRegressor(bootstrap=True, criterion='mse', max_depth=10,\n",
       "           max_features='auto', max_leaf_nodes=None, min_samples_leaf=1,\n",
       "           min_samples_split=2, min_weight_fraction_leaf=0.0,\n",
       "           n_estimators=500, n_jobs=-1, oob_score=False, random_state=None,\n",
       "           verbose=0, warm_start=False)"
      ]
     },
     "execution_count": 53,
     "metadata": {},
     "output_type": "execute_result"
    }
   ],
   "source": [
    "rf.fit(X_df,y_df)"
   ]
  },
  {
   "cell_type": "code",
   "execution_count": null,
   "metadata": {
    "collapsed": false
   },
   "outputs": [],
   "source": [
    "print rf.score(X_df,y_df)"
   ]
  },
  {
   "cell_type": "code",
   "execution_count": null,
   "metadata": {
    "collapsed": false
   },
   "outputs": [],
   "source": [
    "y_pred = rf.predict(X_df)"
   ]
  },
  {
   "cell_type": "code",
   "execution_count": null,
   "metadata": {
    "collapsed": false
   },
   "outputs": [],
   "source": [
    "df['Cross_Sell'] = y_pred"
   ]
  },
  {
   "cell_type": "markdown",
   "metadata": {},
   "source": [
    "## Output Creation"
   ]
  },
  {
   "cell_type": "code",
   "execution_count": null,
   "metadata": {
    "collapsed": false
   },
   "outputs": [],
   "source": [
    "df_out = df[['Client_ID','Cross_Sell']].drop_duplicates()\n",
    "df_out = df_out.drop_duplicates(cols='Client_ID', take_last=True)\n",
    "df_out.to_csv(\"new_model.csv\", index=False)"
   ]
  },
  {
   "cell_type": "code",
   "execution_count": null,
   "metadata": {
    "collapsed": false
   },
   "outputs": [
    {
     "data": {
      "text/plain": [
       "417107"
      ]
     },
     "execution_count": 58,
     "metadata": {},
     "output_type": "execute_result"
    }
   ],
   "source": [
    "len(df_out)"
   ]
  },
  {
   "cell_type": "markdown",
   "metadata": {},
   "source": [
    "# Baseline Naive Bayes"
   ]
  },
  {
   "cell_type": "code",
   "execution_count": null,
   "metadata": {
    "collapsed": false
   },
   "outputs": [],
   "source": [
    "#data = pd.read_csv(\"../datasets/av_seers_accuracy/Train_seers_accuracy/Train_seers_accuracy.csv\", usecols=['Client_ID'])"
   ]
  },
  {
   "cell_type": "code",
   "execution_count": null,
   "metadata": {
    "collapsed": true
   },
   "outputs": [],
   "source": [
    "#client_ids = data.Client_ID.value_counts().reset_index().rename(columns={\"Client_ID\": \"Freq\", \"index\":\"Client_ID\"})"
   ]
  },
  {
   "cell_type": "code",
   "execution_count": null,
   "metadata": {
    "collapsed": true
   },
   "outputs": [],
   "source": [
    "#client_ids['Cross_Sell'] = (client_ids['Freq'] - min(client_ids['Freq'])) / (max(client_ids['Freq']) - min(client_ids['Freq']))"
   ]
  },
  {
   "cell_type": "code",
   "execution_count": null,
   "metadata": {
    "collapsed": true
   },
   "outputs": [],
   "source": [
    "#[['Client_ID', 'Cross_Sell']].to_csv(\"../datasets/av_seers_accuracy/baseline2.csv\", index=False)"
   ]
  },
  {
   "cell_type": "code",
   "execution_count": null,
   "metadata": {
    "collapsed": true
   },
   "outputs": [],
   "source": [
    "2 + 2"
   ]
  },
  {
   "cell_type": "code",
   "execution_count": null,
   "metadata": {
    "collapsed": true
   },
   "outputs": [],
   "source": []
  }
 ],
 "metadata": {
  "kernelspec": {
   "display_name": "Python 2",
   "language": "python",
   "name": "python2"
  },
  "language_info": {
   "codemirror_mode": {
    "name": "ipython",
    "version": 2
   },
   "file_extension": ".py",
   "mimetype": "text/x-python",
   "name": "python",
   "nbconvert_exporter": "python",
   "pygments_lexer": "ipython2",
   "version": "2.7.11"
  }
 },
 "nbformat": 4,
 "nbformat_minor": 0
}
